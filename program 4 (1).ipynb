{
 "cells": [
  {
   "cell_type": "code",
   "execution_count": 2,
   "id": "6f4f8b96",
   "metadata": {},
   "outputs": [
    {
     "name": "stdout",
     "output_type": "stream",
     "text": [
      "Celsius: 37\n",
      "Fahrenheit: 98.6\n"
     ]
    }
   ],
   "source": [
    "#python program to convert celsius to fahrenheit\n",
    "c = float(input(\"Celsius: \"))\n",
    "f = (c * 9/5) + 32\n",
    "print(f\"Fahrenheit: {f}\")\n"
   ]
  },
  {
   "cell_type": "code",
   "execution_count": 6,
   "id": "d6a31027",
   "metadata": {},
   "outputs": [
    {
     "name": "stdout",
     "output_type": "stream",
     "text": [
      "Kilometers: 1\n",
      "Miles: 0.62\n"
     ]
    }
   ],
   "source": [
    "#python program to convert kilometers to miles\n",
    "km = float(input(\"Kilometers: \"))\n",
    "miles = km * 0.621371\n",
    "print(\"Miles:\", round(miles, 2))\n"
   ]
  },
  {
   "cell_type": "code",
   "execution_count": null,
   "id": "75fab7c8",
   "metadata": {},
   "outputs": [],
   "source": []
  }
 ],
 "metadata": {
  "kernelspec": {
   "display_name": "Python 3 (ipykernel)",
   "language": "python",
   "name": "python3"
  },
  "language_info": {
   "codemirror_mode": {
    "name": "ipython",
    "version": 3
   },
   "file_extension": ".py",
   "mimetype": "text/x-python",
   "name": "python",
   "nbconvert_exporter": "python",
   "pygments_lexer": "ipython3",
   "version": "3.10.12"
  }
 },
 "nbformat": 4,
 "nbformat_minor": 5
}
