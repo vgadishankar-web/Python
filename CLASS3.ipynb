{
 "cells": [
  {
   "cell_type": "code",
   "execution_count": 2,
   "id": "8f1333d8",
   "metadata": {},
   "outputs": [
    {
     "name": "stdout",
     "output_type": "stream",
     "text": [
      "enter the integer:3\n",
      "369\n"
     ]
    }
   ],
   "source": [
    "#write a python program that accepts an integer(m) and computes the value of n+nn+nnn\n",
    "n = input(\"enter the integer:\")\n",
    "print(int(n)+int(n*2)+int(n*3))"
   ]
  },
  {
   "cell_type": "code",
   "execution_count": 3,
   "id": "bd62020a",
   "metadata": {},
   "outputs": [
    {
     "name": "stdout",
     "output_type": "stream",
     "text": [
      "Enter radius:  4\n",
      "Area: 50.26548245743669\n"
     ]
    }
   ],
   "source": [
    "#input the radius of a circle and compute the are(import math)\n",
    "import math\n",
    "r = float(input(\"Enter radius: \"))\n",
    "area = math.pi * r * r\n",
    "print(\"Area:\", area)\n"
   ]
  },
  {
   "cell_type": "code",
   "execution_count": null,
   "id": "3a1bd22d",
   "metadata": {},
   "outputs": [],
   "source": []
  }
 ],
 "metadata": {
  "kernelspec": {
   "display_name": "Python 3 (ipykernel)",
   "language": "python",
   "name": "python3"
  },
  "language_info": {
   "codemirror_mode": {
    "name": "ipython",
    "version": 3
   },
   "file_extension": ".py",
   "mimetype": "text/x-python",
   "name": "python",
   "nbconvert_exporter": "python",
   "pygments_lexer": "ipython3",
   "version": "3.10.12"
  }
 },
 "nbformat": 4,
 "nbformat_minor": 5
}
