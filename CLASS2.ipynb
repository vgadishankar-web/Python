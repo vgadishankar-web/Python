{
 "cells": [
  {
   "cell_type": "code",
   "execution_count": 8,
   "id": "779a070d",
   "metadata": {},
   "outputs": [
    {
     "name": "stdout",
     "output_type": "stream",
     "text": [
      "1.4142135623730951\n"
     ]
    }
   ],
   "source": [
    "#import math\n",
    "number=2\n",
    "result=math.sqrt(number)\n",
    "print(result)"
   ]
  },
  {
   "cell_type": "code",
   "execution_count": 9,
   "id": "ac60b5d0",
   "metadata": {},
   "outputs": [
    {
     "name": "stdout",
     "output_type": "stream",
     "text": [
      "6\n",
      "5\n"
     ]
    }
   ],
   "source": [
    "\n",
    "number=5.9\n",
    "print(math.ceil(number))\n",
    "print(math.floor(number))"
   ]
  },
  {
   "cell_type": "code",
   "execution_count": 10,
   "id": "6dc32c9e",
   "metadata": {},
   "outputs": [
    {
     "name": "stdout",
     "output_type": "stream",
     "text": [
      "Enter the length of a side of the square: 10\n",
      "The area of the square is: 100.0\n"
     ]
    }
   ],
   "source": [
    "#PROGRAM TO COMPUTE AREA OF A SQAURE\n",
    "side = float(input(\"Enter the length of a side of the square: \"))\n",
    "area = side * side\n",
    "print(f\"The area of the square is: {area}\")\n"
   ]
  },
  {
   "cell_type": "code",
   "execution_count": 11,
   "id": "61fb39fb",
   "metadata": {},
   "outputs": [
    {
     "name": "stdout",
     "output_type": "stream",
     "text": [
      "Enter the base of the triangle: 10\n",
      "Enter the height of the triangle: 10\n",
      "The area of the right-angled triangle is: 50.0\n"
     ]
    }
   ],
   "source": [
    "#PROGRAM TO COMPUTE THE AREA OF RIGHT TRIANGLE\n",
    "base = float(input(\"Enter the base of the triangle: \"))\n",
    "height = float(input(\"Enter the height of the triangle: \"))\n",
    "area = 0.5 * base * height\n",
    "print(f\"The area of the right-angled triangle is: {area}\")\n"
   ]
  },
  {
   "cell_type": "code",
   "execution_count": 12,
   "id": "c7a9bcc5",
   "metadata": {},
   "outputs": [
    {
     "name": "stdout",
     "output_type": "stream",
     "text": [
      "Enter your name: ADI\n",
      "Hello,ADI!\n"
     ]
    }
   ],
   "source": [
    "#WRITE A PROGRAM THAT GREETS THE USER BY PRINTING THE WORD HELLO A COMMA,THE NAME OF THE USER AND AN EXCLAMATION MARK AFTER IT(HELLO,HARRY!)\n",
    "name = input(\"Enter your name: \")\n",
    "print(\"Hello,\" + name + \"!\")\n"
   ]
  },
  {
   "cell_type": "code",
   "execution_count": 13,
   "id": "8e004b58",
   "metadata": {},
   "outputs": [
    {
     "name": "stdout",
     "output_type": "stream",
     "text": [
      "Enter an integer: 10\n",
      "Previous number: 9\n",
      "Next number: 11\n"
     ]
    }
   ],
   "source": [
    "#WRITE A PROGRAM THAT READS AN INTEGER NUMBER AND PRINTS ITS PREVIOUS AND NEXT NUMBERS\n",
    "num = int(input(\"Enter an integer: \"))\n",
    "print(\"Previous number:\", num - 1)\n",
    "print(\"Next number:\", num + 1)\n"
   ]
  },
  {
   "cell_type": "code",
   "execution_count": 14,
   "id": "c4269465",
   "metadata": {},
   "outputs": [
    {
     "name": "stdout",
     "output_type": "stream",
     "text": [
      "Enter the principal amount: 10\n",
      "Enter the rate of interest: 2\n",
      "Enter the time in years: 4\n",
      "The simple interest is: 0.8\n"
     ]
    }
   ],
   "source": [
    "#WRITE A PYTHON PROGRAM FOR COMPUTING A SIMPLE INTEREST\n",
    "principal = float(input(\"Enter the principal amount: \"))\n",
    "rate = float(input(\"Enter the rate of interest: \"))\n",
    "time = float(input(\"Enter the time in years: \"))\n",
    "simple_interest = (principal * rate * time) / 100\n",
    "print(f\"The simple interest is: {simple_interest}\")\n"
   ]
  },
  {
   "cell_type": "code",
   "execution_count": null,
   "id": "1d58e4bd",
   "metadata": {},
   "outputs": [],
   "source": []
  },
  {
   "cell_type": "code",
   "execution_count": null,
   "id": "17d0e991",
   "metadata": {},
   "outputs": [],
   "source": []
  },
  {
   "cell_type": "code",
   "execution_count": null,
   "id": "f52f718e",
   "metadata": {},
   "outputs": [],
   "source": []
  },
  {
   "cell_type": "code",
   "execution_count": null,
   "id": "179c7234",
   "metadata": {},
   "outputs": [],
   "source": []
  }
 ],
 "metadata": {
  "kernelspec": {
   "display_name": "Python 3 (ipykernel)",
   "language": "python",
   "name": "python3"
  },
  "language_info": {
   "codemirror_mode": {
    "name": "ipython",
    "version": 3
   },
   "file_extension": ".py",
   "mimetype": "text/x-python",
   "name": "python",
   "nbconvert_exporter": "python",
   "pygments_lexer": "ipython3",
   "version": "3.10.12"
  }
 },
 "nbformat": 4,
 "nbformat_minor": 5
}
