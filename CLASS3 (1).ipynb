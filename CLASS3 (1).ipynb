{
 "cells": [
  {
   "cell_type": "code",
   "execution_count": 4,
   "id": "4efacdbb",
   "metadata": {},
   "outputs": [
    {
     "name": "stdout",
     "output_type": "stream",
     "text": [
      "Enter an integer: 6\n",
      "6 + 66 + 666 = 738\n"
     ]
    }
   ],
   "source": [
    "#wirte a program that accepts an integer (n) and computers the value of n+nn+nnn\n",
    "n = input(\"Enter an integer: \")\n",
    "print(n, \"+\", n*2, \"+\", n*3, \"=\", int(n)+int(n*2)+int(n*3))"
   ]
  },
  {
   "cell_type": "code",
   "execution_count": 5,
   "id": "225d0964",
   "metadata": {},
   "outputs": [
    {
     "name": "stdout",
     "output_type": "stream",
     "text": [
      "Enter the radius: 50\n",
      "Area of the circle = 7853\n"
     ]
    }
   ],
   "source": [
    "#input the radius of the circle and computer the aera (import math)\n",
    "import math\n",
    "r = float(input(\"Enter the radius: \"))\n",
    "area = math.pi * r * r\n",
    "print(\"Area of the circle =\", int(area))\n"
   ]
  },
  {
   "cell_type": "code",
   "execution_count": null,
   "id": "cb03dbe5",
   "metadata": {},
   "outputs": [],
   "source": []
  }
 ],
 "metadata": {
  "kernelspec": {
   "display_name": "Python 3 (ipykernel)",
   "language": "python",
   "name": "python3"
  },
  "language_info": {
   "codemirror_mode": {
    "name": "ipython",
    "version": 3
   },
   "file_extension": ".py",
   "mimetype": "text/x-python",
   "name": "python",
   "nbconvert_exporter": "python",
   "pygments_lexer": "ipython3",
   "version": "3.10.12"
  }
 },
 "nbformat": 4,
 "nbformat_minor": 5
}
