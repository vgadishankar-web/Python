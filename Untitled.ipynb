
{
 "cells": [
  {
   "cell_type": "code",
   "execution_count": 1,
   "id": "52c125c5",
   "metadata": {},
   "outputs": [
    {
     "name": "stdout",
     "output_type": "stream",
     "text": [
      "good morning\n"
     ]
    }
   ],
   "source": [
    "print(\"good morning\")\n"
   ]
  },
  {
   "cell_type": "code",
   "execution_count": 5,
   "id": "51f438fe",
   "metadata": {},
   "outputs": [
    {
     "name": "stdout",
     "output_type": "stream",
     "text": [
      "adishankar v g \n",
      "kakkavayal po\n"
     ]
    }
   ],
   "source": [
    "print(\"adishankar v g \\nkakkavayal po\")"
   ]
  },
  {
   "cell_type": "code",
   "execution_count": 6,
   "id": "529a24a5",
   "metadata": {},
   "outputs": [
    {
     "name": "stdout",
     "output_type": "stream",
     "text": [
      "8\n"
     ]
    }
   ],
   "source": [
    "print(2*2*2)"
   ]
  },
  {
   "cell_type": "code",
   "execution_count": 19,
   "id": "4d715092",
   "metadata": {},
   "outputs": [
    {
     "name": "stdout",
     "output_type": "stream",
     "text": [
      "\"MCA STUDENTS\"\n"
     ]
    }
   ],
   "source": [
    "print('\"MCA STUDENTS\"')"
   ]
  },
  {
   "cell_type": "code",
   "execution_count": 20,
   "id": "d6241747",
   "metadata": {},
   "outputs": [],
   "source": [
    "n=\"arjun\""
   ]
  },
  {
   "cell_type": "code",
   "execution_count": 21,
   "id": "6a9289b2",
   "metadata": {},
   "outputs": [
    {
     "data": {
      "text/plain": [
       "'arjun'"
      ]
     },
     "execution_count": 21,
     "metadata": {},
     "output_type": "execute_result"
    }
   ],
   "source": [
    "n"
   ]
  },
  {
   "cell_type": "code",
   "execution_count": 23,
   "id": "a0580c30",
   "metadata": {},
   "outputs": [
    {
     "name": "stdout",
     "output_type": "stream",
     "text": [
      "name= jun\n"
     ]
    }
   ],
   "source": [
    "n=\"arjun\"\n",
    "print(\"name=\",n[2:5])"
   ]
  },
  {
   "cell_type": "code",
   "execution_count": null,
   "id": "e5a7f1fc",
   "metadata": {},
   "outputs": [],
   "source": []
  }
 ],
 "metadata": {
  "kernelspec": {
   "display_name": "Python 3 (ipykernel)",
   "language": "python",
   "name": "python3"
  },
  "language_info": {
   "codemirror_mode": {
    "name": "ipython",
    "version": 3
   },
   "file_extension": ".py",
   "mimetype": "text/x-python",
   "name": "python",
   "nbconvert_exporter": "python",
   "pygments_lexer": "ipython3",
   "version": "3.10.12"
  }
 },
 "nbformat": 4,
 "nbformat_minor": 5
}
