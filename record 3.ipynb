{
 "cells": [
  {
   "cell_type": "code",
   "execution_count": 1,
   "id": "880d97b9",
   "metadata": {},
   "outputs": [
    {
     "name": "stdout",
     "output_type": "stream",
     "text": [
      "enter first number10\n",
      "enter second number20\n",
      "enter third number30\n",
      "the biggest number is: 30.0\n"
     ]
    }
   ],
   "source": [
    "#python program to find the biggest of three numbers uing max()\n",
    "num1 = float(input(\"enter first number\"))\n",
    "num2 = float(input(\"enter second number\"))\n",
    "num3 = float(input(\"enter third number\"))\n",
    "biggest = max(num1,num2,num3)\n",
    "print(\"the biggest number is:\",biggest)"
   ]
  },
  {
   "cell_type": "code",
   "execution_count": null,
   "id": "54eac337",
   "metadata": {},
   "outputs": [],
   "source": []
  }
 ],
 "metadata": {
  "kernelspec": {
   "display_name": "Python 3 (ipykernel)",
   "language": "python",
   "name": "python3"
  },
  "language_info": {
   "codemirror_mode": {
    "name": "ipython",
    "version": 3
   },
   "file_extension": ".py",
   "mimetype": "text/x-python",
   "name": "python",
   "nbconvert_exporter": "python",
   "pygments_lexer": "ipython3",
   "version": "3.10.12"
  }
 },
 "nbformat": 4,
 "nbformat_minor": 5
}
